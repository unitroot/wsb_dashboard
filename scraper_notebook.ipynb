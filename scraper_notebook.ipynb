{
 "cells": [
  {
   "cell_type": "markdown",
   "metadata": {},
   "source": [
    "# WSB SCRAPER"
   ]
  },
  {
   "cell_type": "markdown",
   "metadata": {},
   "source": [
    "## 1) Load packages"
   ]
  },
  {
   "cell_type": "code",
   "execution_count": 2,
   "metadata": {},
   "outputs": [
    {
     "name": "stderr",
     "output_type": "stream",
     "text": [
      "[nltk_data] Downloading package vader_lexicon to\n",
      "[nltk_data]     C:\\Users\\marku\\AppData\\Roaming\\nltk_data...\n",
      "[nltk_data]   Package vader_lexicon is already up-to-date!\n"
     ]
    }
   ],
   "source": [
    "import datetime\n",
    "import pyarrow\n",
    "import praw\n",
    "import pandas as pd\n",
    "import nltk\n",
    "nltk.download('vader_lexicon')\n",
    "from nltk.sentiment.vader import SentimentIntensityAnalyzer"
   ]
  },
  {
   "cell_type": "markdown",
   "metadata": {},
   "source": [
    "## 2) Set up Reddit API"
   ]
  },
  {
   "cell_type": "code",
   "execution_count": 3,
   "metadata": {},
   "outputs": [],
   "source": [
    "# DISCLAIMER: this is not my API key, I have it from some tutorial, but can't find the link anymore. Sorry!\n",
    "reddit = praw.Reddit(client_id='dwvhQN_PoUCoAw',\n",
    "                     client_secret='X8N_SZUsiI-CNVIYLToBFFQ-cYE',\n",
    "                     user_agent='news on hooks')"
   ]
  },
  {
   "cell_type": "markdown",
   "metadata": {},
   "source": [
    "## 3) Retrieve data"
   ]
  },
  {
   "cell_type": "markdown",
   "metadata": {},
   "source": [
    "### 3.1) Retrieve submissions"
   ]
  },
  {
   "cell_type": "code",
   "execution_count": 83,
   "metadata": {},
   "outputs": [],
   "source": [
    "n_depth = 5\n",
    "submissions = reddit.subreddit('wallstreetbets').new(limit = n_depth)"
   ]
  },
  {
   "cell_type": "markdown",
   "metadata": {},
   "source": [
    "### 3.2) Parse submissions"
   ]
  },
  {
   "cell_type": "code",
   "execution_count": 84,
   "metadata": {},
   "outputs": [
    {
     "data": {
      "text/html": [
       "<div>\n",
       "<style scoped>\n",
       "    .dataframe tbody tr th:only-of-type {\n",
       "        vertical-align: middle;\n",
       "    }\n",
       "\n",
       "    .dataframe tbody tr th {\n",
       "        vertical-align: top;\n",
       "    }\n",
       "\n",
       "    .dataframe thead th {\n",
       "        text-align: right;\n",
       "    }\n",
       "</style>\n",
       "<table border=\"1\" class=\"dataframe\">\n",
       "  <thead>\n",
       "    <tr style=\"text-align: right;\">\n",
       "      <th></th>\n",
       "      <th>id</th>\n",
       "      <th>title</th>\n",
       "      <th>author</th>\n",
       "      <th>score</th>\n",
       "      <th>flair</th>\n",
       "      <th>ncomms</th>\n",
       "      <th>created</th>\n",
       "      <th>body</th>\n",
       "      <th>vader</th>\n",
       "    </tr>\n",
       "  </thead>\n",
       "  <tbody>\n",
       "    <tr>\n",
       "      <th>0</th>\n",
       "      <td>kr8tdo</td>\n",
       "      <td>learning options Greeks for dummies</td>\n",
       "      <td>Ouiju</td>\n",
       "      <td>1</td>\n",
       "      <td>Meme</td>\n",
       "      <td>0</td>\n",
       "      <td>1.609884e+09</td>\n",
       "      <td></td>\n",
       "      <td>N/A</td>\n",
       "    </tr>\n",
       "    <tr>\n",
       "      <th>1</th>\n",
       "      <td>kr8tck</td>\n",
       "      <td>All the PLTR bear \"analysts\" are out of touch ...</td>\n",
       "      <td>Rocketpod_</td>\n",
       "      <td>3</td>\n",
       "      <td>DD</td>\n",
       "      <td>0</td>\n",
       "      <td>1.609884e+09</td>\n",
       "      <td>Imagine if you got in to Tesla, Amazon, Google...</td>\n",
       "      <td>N/A</td>\n",
       "    </tr>\n",
       "    <tr>\n",
       "      <th>2</th>\n",
       "      <td>kr8sbz</td>\n",
       "      <td>TSLA Curiosity</td>\n",
       "      <td>stickman07738</td>\n",
       "      <td>1</td>\n",
       "      <td>News</td>\n",
       "      <td>0</td>\n",
       "      <td>1.609884e+09</td>\n",
       "      <td>I just saw this news report and always thought...</td>\n",
       "      <td>N/A</td>\n",
       "    </tr>\n",
       "    <tr>\n",
       "      <th>3</th>\n",
       "      <td>kr8mnj</td>\n",
       "      <td>Why you should buy $LIT</td>\n",
       "      <td>ohbabyspence</td>\n",
       "      <td>1</td>\n",
       "      <td>DD</td>\n",
       "      <td>1</td>\n",
       "      <td>1.609883e+09</td>\n",
       "      <td>Hello again fellow retards, I am here to preac...</td>\n",
       "      <td>N/A</td>\n",
       "    </tr>\n",
       "    <tr>\n",
       "      <th>4</th>\n",
       "      <td>kr8ir9</td>\n",
       "      <td>$PLTR co founder John Lonsdale 8VC firm owns a...</td>\n",
       "      <td>religionresearcher</td>\n",
       "      <td>3</td>\n",
       "      <td>Discussion</td>\n",
       "      <td>6</td>\n",
       "      <td>1.609883e+09</td>\n",
       "      <td>So they totally aped into $WISH with 30m plus ...</td>\n",
       "      <td>N/A</td>\n",
       "    </tr>\n",
       "  </tbody>\n",
       "</table>\n",
       "</div>"
      ],
      "text/plain": [
       "       id                                              title  \\\n",
       "0  kr8tdo                learning options Greeks for dummies   \n",
       "1  kr8tck  All the PLTR bear \"analysts\" are out of touch ...   \n",
       "2  kr8sbz                                     TSLA Curiosity   \n",
       "3  kr8mnj                            Why you should buy $LIT   \n",
       "4  kr8ir9  $PLTR co founder John Lonsdale 8VC firm owns a...   \n",
       "\n",
       "               author score       flair ncomms       created  \\\n",
       "0               Ouiju     1        Meme      0  1.609884e+09   \n",
       "1          Rocketpod_     3          DD      0  1.609884e+09   \n",
       "2       stickman07738     1        News      0  1.609884e+09   \n",
       "3        ohbabyspence     1          DD      1  1.609883e+09   \n",
       "4  religionresearcher     3  Discussion      6  1.609883e+09   \n",
       "\n",
       "                                                body vader  \n",
       "0                                                      N/A  \n",
       "1  Imagine if you got in to Tesla, Amazon, Google...   N/A  \n",
       "2  I just saw this news report and always thought...   N/A  \n",
       "3  Hello again fellow retards, I am here to preac...   N/A  \n",
       "4  So they totally aped into $WISH with 30m plus ...   N/A  "
      ]
     },
     "execution_count": 84,
     "metadata": {},
     "output_type": "execute_result"
    }
   ],
   "source": [
    "sub_data = pd.DataFrame(columns = ['id', 'title', 'author', 'score', 'flair', 'ncomms', 'created', 'body', 'vader'])\n",
    "for sub in submissions:\n",
    "    sub_data = sub_data.append(\n",
    "    pd.Series(\n",
    "    [\n",
    "        sub.id, \n",
    "        sub.title, \n",
    "        sub.author,\n",
    "        sub.score,\n",
    "        sub.link_flair_text, \n",
    "        sub.num_comments,\n",
    "        sub.created_utc,\n",
    "        sub.selftext,\n",
    "        'N/A'\n",
    "    ], \n",
    "    index = ['id', 'title', 'author', 'score', 'flair', 'ncomms', 'created', 'body', 'vader']\n",
    "    ),\n",
    "        ignore_index = True\n",
    "    )\n",
    "sub_data"
   ]
  },
  {
   "cell_type": "markdown",
   "metadata": {},
   "source": [
    "### 3.3) Retrieve comment forrest"
   ]
  },
  {
   "cell_type": "code",
   "execution_count": 85,
   "metadata": {},
   "outputs": [
    {
     "name": "stdout",
     "output_type": "stream",
     "text": [
      "learning options Greeks for dummies\n",
      "All the PLTR bear \"analysts\" are out of touch and have no idea what they're talking about\n",
      "TSLA Curiosity\n",
      "Why you should buy $LIT\n",
      "$PLTR co founder John Lonsdale 8VC firm owns a yolo amount of $WISH\n"
     ]
    },
    {
     "data": {
      "text/html": [
       "<div>\n",
       "<style scoped>\n",
       "    .dataframe tbody tr th:only-of-type {\n",
       "        vertical-align: middle;\n",
       "    }\n",
       "\n",
       "    .dataframe tbody tr th {\n",
       "        vertical-align: top;\n",
       "    }\n",
       "\n",
       "    .dataframe thead th {\n",
       "        text-align: right;\n",
       "    }\n",
       "</style>\n",
       "<table border=\"1\" class=\"dataframe\">\n",
       "  <thead>\n",
       "    <tr style=\"text-align: right;\">\n",
       "      <th></th>\n",
       "      <th>id</th>\n",
       "      <th>subid</th>\n",
       "      <th>parentid</th>\n",
       "      <th>author</th>\n",
       "      <th>score</th>\n",
       "      <th>created</th>\n",
       "      <th>body</th>\n",
       "      <th>vader</th>\n",
       "    </tr>\n",
       "  </thead>\n",
       "  <tbody>\n",
       "    <tr>\n",
       "      <th>0</th>\n",
       "      <td>gi899e9</td>\n",
       "      <td>t3_kr8mnj</td>\n",
       "      <td>t3_kr8mnj</td>\n",
       "      <td>pickbot</td>\n",
       "      <td>2</td>\n",
       "      <td>1.609883e+09</td>\n",
       "      <td>**I am a bot and identified and tracked the fo...</td>\n",
       "      <td>N/A</td>\n",
       "    </tr>\n",
       "    <tr>\n",
       "      <th>1</th>\n",
       "      <td>gi87qws</td>\n",
       "      <td>t3_kr8ir9</td>\n",
       "      <td>t3_kr8ir9</td>\n",
       "      <td>WSBVoteBot</td>\n",
       "      <td>1</td>\n",
       "      <td>1.609883e+09</td>\n",
       "      <td>**I am a bot. Is this submission violating the...</td>\n",
       "      <td>N/A</td>\n",
       "    </tr>\n",
       "    <tr>\n",
       "      <th>2</th>\n",
       "      <td>gi89127</td>\n",
       "      <td>t3_kr8ir9</td>\n",
       "      <td>t3_kr8ir9</td>\n",
       "      <td>BagofBabbish</td>\n",
       "      <td>4</td>\n",
       "      <td>1.609883e+09</td>\n",
       "      <td>Hate to break it to you, but venture firms ALW...</td>\n",
       "      <td>N/A</td>\n",
       "    </tr>\n",
       "    <tr>\n",
       "      <th>3</th>\n",
       "      <td>gi88wti</td>\n",
       "      <td>t3_kr8ir9</td>\n",
       "      <td>t3_kr8ir9</td>\n",
       "      <td>noselfinterest</td>\n",
       "      <td>2</td>\n",
       "      <td>1.609883e+09</td>\n",
       "      <td>there was a recent post on how bad/crap WISH i...</td>\n",
       "      <td>N/A</td>\n",
       "    </tr>\n",
       "    <tr>\n",
       "      <th>4</th>\n",
       "      <td>gi882qc</td>\n",
       "      <td>t3_kr8ir9</td>\n",
       "      <td>t3_kr8ir9</td>\n",
       "      <td>kleyva24</td>\n",
       "      <td>2</td>\n",
       "      <td>1.609883e+09</td>\n",
       "      <td>Son of a gun. Im all in. 🚀 didnt even have to ...</td>\n",
       "      <td>N/A</td>\n",
       "    </tr>\n",
       "    <tr>\n",
       "      <th>5</th>\n",
       "      <td>gi89m2i</td>\n",
       "      <td>t3_kr8ir9</td>\n",
       "      <td>t1_gi89127</td>\n",
       "      <td>uslashuname</td>\n",
       "      <td>1</td>\n",
       "      <td>1.609884e+09</td>\n",
       "      <td>Right? Like the guys that sold aapl at ipo for...</td>\n",
       "      <td>N/A</td>\n",
       "    </tr>\n",
       "    <tr>\n",
       "      <th>6</th>\n",
       "      <td>gi89z7c</td>\n",
       "      <td>t3_kr8ir9</td>\n",
       "      <td>t1_gi88wti</td>\n",
       "      <td>ChicknNugBuds</td>\n",
       "      <td>1</td>\n",
       "      <td>1.609884e+09</td>\n",
       "      <td>I just think about that retard buying a ps5 on...</td>\n",
       "      <td>N/A</td>\n",
       "    </tr>\n",
       "  </tbody>\n",
       "</table>\n",
       "</div>"
      ],
      "text/plain": [
       "        id      subid    parentid          author score       created  \\\n",
       "0  gi899e9  t3_kr8mnj   t3_kr8mnj         pickbot     2  1.609883e+09   \n",
       "1  gi87qws  t3_kr8ir9   t3_kr8ir9      WSBVoteBot     1  1.609883e+09   \n",
       "2  gi89127  t3_kr8ir9   t3_kr8ir9    BagofBabbish     4  1.609883e+09   \n",
       "3  gi88wti  t3_kr8ir9   t3_kr8ir9  noselfinterest     2  1.609883e+09   \n",
       "4  gi882qc  t3_kr8ir9   t3_kr8ir9        kleyva24     2  1.609883e+09   \n",
       "5  gi89m2i  t3_kr8ir9  t1_gi89127     uslashuname     1  1.609884e+09   \n",
       "6  gi89z7c  t3_kr8ir9  t1_gi88wti   ChicknNugBuds     1  1.609884e+09   \n",
       "\n",
       "                                                body vader  \n",
       "0  **I am a bot and identified and tracked the fo...   N/A  \n",
       "1  **I am a bot. Is this submission violating the...   N/A  \n",
       "2  Hate to break it to you, but venture firms ALW...   N/A  \n",
       "3  there was a recent post on how bad/crap WISH i...   N/A  \n",
       "4  Son of a gun. Im all in. 🚀 didnt even have to ...   N/A  \n",
       "5  Right? Like the guys that sold aapl at ipo for...   N/A  \n",
       "6  I just think about that retard buying a ps5 on...   N/A  "
      ]
     },
     "execution_count": 85,
     "metadata": {},
     "output_type": "execute_result"
    }
   ],
   "source": [
    "com_data =  pd.DataFrame(columns = ['id', 'subid', 'parentid', 'author', 'score', 'created', 'body', 'vader'])\n",
    "for s_id in sub_data.id:\n",
    "    sub = reddit.submission(id=s_id)\n",
    "    print(sub.title)\n",
    "    sub.comments.replace_more(limit=None)\n",
    "    comment_queue = sub.comments[:]  # Seed with top-level\n",
    "    while comment_queue:\n",
    "        comment = comment_queue.pop(0)\n",
    "        com_data = com_data.append(\n",
    "        pd.Series(\n",
    "        [\n",
    "            comment.id, \n",
    "            comment.link_id,\n",
    "            comment.parent_id,\n",
    "            comment.author,\n",
    "            comment.score,\n",
    "            comment.created_utc,\n",
    "            comment.body,\n",
    "            'N/A'\n",
    "        ],\n",
    "            index = ['id', 'subid', 'parentid', 'author', 'score', 'created', 'body', 'vader']\n",
    "        ),\n",
    "            ignore_index = True\n",
    "        )\n",
    "        comment_queue.extend(comment.replies)\n",
    "        \n",
    "com_data"
   ]
  },
  {
   "cell_type": "markdown",
   "metadata": {},
   "source": [
    "## 4) VADER Sentiment Analyzer"
   ]
  },
  {
   "cell_type": "markdown",
   "metadata": {},
   "source": [
    "### 4.1) Assign SIA shortcut"
   ]
  },
  {
   "cell_type": "code",
   "execution_count": 86,
   "metadata": {},
   "outputs": [],
   "source": [
    "sia = SentimentIntensityAnalyzer()"
   ]
  },
  {
   "cell_type": "markdown",
   "metadata": {},
   "source": [
    "### 4.2) Define custom valence dictionary"
   ]
  },
  {
   "cell_type": "code",
   "execution_count": 87,
   "metadata": {},
   "outputs": [],
   "source": [
    "wsb_lingo = {\n",
    "    # words to neutralize\n",
    "    'retard': 0,\n",
    "    'yolo': 0,\n",
    "    'yolod': 0,\n",
    "    'yoloed': 0,\n",
    "    'yoloing': 0,\n",
    "    'fuck': 0,\n",
    "    'fucks': 0,\n",
    "    'fucked': 0,\n",
    "    'fucking': 0,\n",
    "    'shit': 0,\n",
    "    'fag': 0, \n",
    "    'autist': 0,\n",
    "    # positive valence\n",
    "    'bull': 1.5,\n",
    "    'call': 1.5,\n",
    "    'calls': 1.5,\n",
    "    'long': 1.5,\n",
    "    'buy': 1,\n",
    "    'buys': 1,\n",
    "    'buying': 1,\n",
    "    'hold': 0.5,\n",
    "    # negative valence\n",
    "    'bear': -1.5,\n",
    "    'sell': -1.5,\n",
    "    'selling': -1.5,\n",
    "    'sells': -1.5,\n",
    "    'puts': -1.5,\n",
    "    'short': -1.5,\n",
    "    'shorts': -1.5,\n",
    "    'shorting': -1.5,\n",
    "    'put': -1,\n",
    "    'wife': -1,\n",
    "    \"wife's\": -1,\n",
    "    'boyfriend': -1,\n",
    "    'gay': -0.5, # sad\n",
    "    'moon': -0.5, # debatable, but mostly used sarcastically\n",
    "    # emoji mapping, which get translated to text by VADER\n",
    "    'fire': 0,\n",
    "    'rainbow': -1.5,\n",
    "    'gem stone': 1,\n",
    "    'raising hand': 1,\n",
    "    'rocket': 1.5\n",
    "}\n",
    "\n",
    "sia.lexicon.update(wsb_lingo)"
   ]
  },
  {
   "cell_type": "markdown",
   "metadata": {},
   "source": [
    "### 4.3) Iterate over submissions and comments"
   ]
  },
  {
   "cell_type": "code",
   "execution_count": 88,
   "metadata": {},
   "outputs": [
    {
     "data": {
      "text/html": [
       "<div>\n",
       "<style scoped>\n",
       "    .dataframe tbody tr th:only-of-type {\n",
       "        vertical-align: middle;\n",
       "    }\n",
       "\n",
       "    .dataframe tbody tr th {\n",
       "        vertical-align: top;\n",
       "    }\n",
       "\n",
       "    .dataframe thead th {\n",
       "        text-align: right;\n",
       "    }\n",
       "</style>\n",
       "<table border=\"1\" class=\"dataframe\">\n",
       "  <thead>\n",
       "    <tr style=\"text-align: right;\">\n",
       "      <th></th>\n",
       "      <th>id</th>\n",
       "      <th>title</th>\n",
       "      <th>author</th>\n",
       "      <th>score</th>\n",
       "      <th>flair</th>\n",
       "      <th>ncomms</th>\n",
       "      <th>created</th>\n",
       "      <th>body</th>\n",
       "      <th>vader</th>\n",
       "    </tr>\n",
       "  </thead>\n",
       "  <tbody>\n",
       "    <tr>\n",
       "      <th>0</th>\n",
       "      <td>kr8tdo</td>\n",
       "      <td>learning options Greeks for dummies</td>\n",
       "      <td>Ouiju</td>\n",
       "      <td>1</td>\n",
       "      <td>Meme</td>\n",
       "      <td>0</td>\n",
       "      <td>1.609884e+09</td>\n",
       "      <td></td>\n",
       "      <td>0</td>\n",
       "    </tr>\n",
       "    <tr>\n",
       "      <th>1</th>\n",
       "      <td>kr8tck</td>\n",
       "      <td>All the PLTR bear \"analysts\" are out of touch ...</td>\n",
       "      <td>Rocketpod_</td>\n",
       "      <td>3</td>\n",
       "      <td>DD</td>\n",
       "      <td>0</td>\n",
       "      <td>1.609884e+09</td>\n",
       "      <td>Imagine if you got in to Tesla, Amazon, Google...</td>\n",
       "      <td>-0.5719</td>\n",
       "    </tr>\n",
       "    <tr>\n",
       "      <th>2</th>\n",
       "      <td>kr8sbz</td>\n",
       "      <td>TSLA Curiosity</td>\n",
       "      <td>stickman07738</td>\n",
       "      <td>1</td>\n",
       "      <td>News</td>\n",
       "      <td>0</td>\n",
       "      <td>1.609884e+09</td>\n",
       "      <td>I just saw this news report and always thought...</td>\n",
       "      <td>0</td>\n",
       "    </tr>\n",
       "    <tr>\n",
       "      <th>3</th>\n",
       "      <td>kr8mnj</td>\n",
       "      <td>Why you should buy $LIT</td>\n",
       "      <td>ohbabyspence</td>\n",
       "      <td>1</td>\n",
       "      <td>DD</td>\n",
       "      <td>1</td>\n",
       "      <td>1.609883e+09</td>\n",
       "      <td>Hello again fellow retards, I am here to preac...</td>\n",
       "      <td>0.25</td>\n",
       "    </tr>\n",
       "    <tr>\n",
       "      <th>4</th>\n",
       "      <td>kr8ir9</td>\n",
       "      <td>$PLTR co founder John Lonsdale 8VC firm owns a...</td>\n",
       "      <td>religionresearcher</td>\n",
       "      <td>3</td>\n",
       "      <td>Discussion</td>\n",
       "      <td>6</td>\n",
       "      <td>1.609883e+09</td>\n",
       "      <td>So they totally aped into $WISH with 30m plus ...</td>\n",
       "      <td>0</td>\n",
       "    </tr>\n",
       "  </tbody>\n",
       "</table>\n",
       "</div>"
      ],
      "text/plain": [
       "       id                                              title  \\\n",
       "0  kr8tdo                learning options Greeks for dummies   \n",
       "1  kr8tck  All the PLTR bear \"analysts\" are out of touch ...   \n",
       "2  kr8sbz                                     TSLA Curiosity   \n",
       "3  kr8mnj                            Why you should buy $LIT   \n",
       "4  kr8ir9  $PLTR co founder John Lonsdale 8VC firm owns a...   \n",
       "\n",
       "               author score       flair ncomms       created  \\\n",
       "0               Ouiju     1        Meme      0  1.609884e+09   \n",
       "1          Rocketpod_     3          DD      0  1.609884e+09   \n",
       "2       stickman07738     1        News      0  1.609884e+09   \n",
       "3        ohbabyspence     1          DD      1  1.609883e+09   \n",
       "4  religionresearcher     3  Discussion      6  1.609883e+09   \n",
       "\n",
       "                                                body   vader  \n",
       "0                                                          0  \n",
       "1  Imagine if you got in to Tesla, Amazon, Google... -0.5719  \n",
       "2  I just saw this news report and always thought...       0  \n",
       "3  Hello again fellow retards, I am here to preac...    0.25  \n",
       "4  So they totally aped into $WISH with 30m plus ...       0  "
      ]
     },
     "execution_count": 88,
     "metadata": {},
     "output_type": "execute_result"
    }
   ],
   "source": [
    "for row in sub_data.index:\n",
    "    sub_data.loc[row, 'vader'] = sia.polarity_scores(sub_data.loc[row, 'title'])['compound']\n",
    "sub_data"
   ]
  },
  {
   "cell_type": "code",
   "execution_count": 89,
   "metadata": {},
   "outputs": [
    {
     "data": {
      "text/html": [
       "<div>\n",
       "<style scoped>\n",
       "    .dataframe tbody tr th:only-of-type {\n",
       "        vertical-align: middle;\n",
       "    }\n",
       "\n",
       "    .dataframe tbody tr th {\n",
       "        vertical-align: top;\n",
       "    }\n",
       "\n",
       "    .dataframe thead th {\n",
       "        text-align: right;\n",
       "    }\n",
       "</style>\n",
       "<table border=\"1\" class=\"dataframe\">\n",
       "  <thead>\n",
       "    <tr style=\"text-align: right;\">\n",
       "      <th></th>\n",
       "      <th>id</th>\n",
       "      <th>subid</th>\n",
       "      <th>parentid</th>\n",
       "      <th>author</th>\n",
       "      <th>score</th>\n",
       "      <th>created</th>\n",
       "      <th>body</th>\n",
       "      <th>vader</th>\n",
       "    </tr>\n",
       "  </thead>\n",
       "  <tbody>\n",
       "    <tr>\n",
       "      <th>0</th>\n",
       "      <td>gi899e9</td>\n",
       "      <td>t3_kr8mnj</td>\n",
       "      <td>t3_kr8mnj</td>\n",
       "      <td>pickbot</td>\n",
       "      <td>2</td>\n",
       "      <td>1.609883e+09</td>\n",
       "      <td>**I am a bot and identified and tracked the fo...</td>\n",
       "      <td>0</td>\n",
       "    </tr>\n",
       "    <tr>\n",
       "      <th>1</th>\n",
       "      <td>gi87qws</td>\n",
       "      <td>t3_kr8ir9</td>\n",
       "      <td>t3_kr8ir9</td>\n",
       "      <td>WSBVoteBot</td>\n",
       "      <td>1</td>\n",
       "      <td>1.609883e+09</td>\n",
       "      <td>**I am a bot. Is this submission violating the...</td>\n",
       "      <td>-0.6662</td>\n",
       "    </tr>\n",
       "    <tr>\n",
       "      <th>2</th>\n",
       "      <td>gi89127</td>\n",
       "      <td>t3_kr8ir9</td>\n",
       "      <td>t3_kr8ir9</td>\n",
       "      <td>BagofBabbish</td>\n",
       "      <td>4</td>\n",
       "      <td>1.609883e+09</td>\n",
       "      <td>Hate to break it to you, but venture firms ALW...</td>\n",
       "      <td>-0.4215</td>\n",
       "    </tr>\n",
       "    <tr>\n",
       "      <th>3</th>\n",
       "      <td>gi88wti</td>\n",
       "      <td>t3_kr8ir9</td>\n",
       "      <td>t3_kr8ir9</td>\n",
       "      <td>noselfinterest</td>\n",
       "      <td>2</td>\n",
       "      <td>1.609883e+09</td>\n",
       "      <td>there was a recent post on how bad/crap WISH i...</td>\n",
       "      <td>0.5754</td>\n",
       "    </tr>\n",
       "    <tr>\n",
       "      <th>4</th>\n",
       "      <td>gi882qc</td>\n",
       "      <td>t3_kr8ir9</td>\n",
       "      <td>t3_kr8ir9</td>\n",
       "      <td>kleyva24</td>\n",
       "      <td>2</td>\n",
       "      <td>1.609883e+09</td>\n",
       "      <td>Son of a gun. Im all in. 🚀 didnt even have to ...</td>\n",
       "      <td>-0.34</td>\n",
       "    </tr>\n",
       "    <tr>\n",
       "      <th>5</th>\n",
       "      <td>gi89m2i</td>\n",
       "      <td>t3_kr8ir9</td>\n",
       "      <td>t1_gi89127</td>\n",
       "      <td>uslashuname</td>\n",
       "      <td>1</td>\n",
       "      <td>1.609884e+09</td>\n",
       "      <td>Right? Like the guys that sold aapl at ipo for...</td>\n",
       "      <td>0.8074</td>\n",
       "    </tr>\n",
       "    <tr>\n",
       "      <th>6</th>\n",
       "      <td>gi89z7c</td>\n",
       "      <td>t3_kr8ir9</td>\n",
       "      <td>t1_gi88wti</td>\n",
       "      <td>ChicknNugBuds</td>\n",
       "      <td>1</td>\n",
       "      <td>1.609884e+09</td>\n",
       "      <td>I just think about that retard buying a ps5 on...</td>\n",
       "      <td>0.7351</td>\n",
       "    </tr>\n",
       "  </tbody>\n",
       "</table>\n",
       "</div>"
      ],
      "text/plain": [
       "        id      subid    parentid          author score       created  \\\n",
       "0  gi899e9  t3_kr8mnj   t3_kr8mnj         pickbot     2  1.609883e+09   \n",
       "1  gi87qws  t3_kr8ir9   t3_kr8ir9      WSBVoteBot     1  1.609883e+09   \n",
       "2  gi89127  t3_kr8ir9   t3_kr8ir9    BagofBabbish     4  1.609883e+09   \n",
       "3  gi88wti  t3_kr8ir9   t3_kr8ir9  noselfinterest     2  1.609883e+09   \n",
       "4  gi882qc  t3_kr8ir9   t3_kr8ir9        kleyva24     2  1.609883e+09   \n",
       "5  gi89m2i  t3_kr8ir9  t1_gi89127     uslashuname     1  1.609884e+09   \n",
       "6  gi89z7c  t3_kr8ir9  t1_gi88wti   ChicknNugBuds     1  1.609884e+09   \n",
       "\n",
       "                                                body   vader  \n",
       "0  **I am a bot and identified and tracked the fo...       0  \n",
       "1  **I am a bot. Is this submission violating the... -0.6662  \n",
       "2  Hate to break it to you, but venture firms ALW... -0.4215  \n",
       "3  there was a recent post on how bad/crap WISH i...  0.5754  \n",
       "4  Son of a gun. Im all in. 🚀 didnt even have to ...   -0.34  \n",
       "5  Right? Like the guys that sold aapl at ipo for...  0.8074  \n",
       "6  I just think about that retard buying a ps5 on...  0.7351  "
      ]
     },
     "execution_count": 89,
     "metadata": {},
     "output_type": "execute_result"
    }
   ],
   "source": [
    "for row in com_data.index:\n",
    "    com_data.loc[row, 'vader'] = sia.polarity_scores(com_data.loc[row, 'body'])['compound']\n",
    "com_data"
   ]
  },
  {
   "cell_type": "markdown",
   "metadata": {},
   "source": [
    "## 5) Store Data"
   ]
  },
  {
   "cell_type": "markdown",
   "metadata": {},
   "source": [
    "### 5.1) Data type fixing"
   ]
  },
  {
   "cell_type": "code",
   "execution_count": 90,
   "metadata": {},
   "outputs": [
    {
     "data": {
      "text/plain": [
       "id                 object\n",
       "title              object\n",
       "author             object\n",
       "score               int32\n",
       "flair              object\n",
       "ncomms              int32\n",
       "created    datetime64[ns]\n",
       "body               object\n",
       "vader             float32\n",
       "dtype: object"
      ]
     },
     "execution_count": 90,
     "metadata": {},
     "output_type": "execute_result"
    }
   ],
   "source": [
    "sub_data = sub_data.astype({'id': 'str', # required str conversion due to hidden PRAW-specific dtypes incompatibility with feather\n",
    "                            'title': 'str',\n",
    "                            'author': 'str',\n",
    "                            'score': 'int32', \n",
    "                            'flair': 'str',\n",
    "                            'ncomms': 'int32', \n",
    "                            'created': 'datetime64[s]',\n",
    "                            'body': 'str',\n",
    "                            'vader': 'float32'})\n",
    "sub_data.dtypes"
   ]
  },
  {
   "cell_type": "code",
   "execution_count": 91,
   "metadata": {},
   "outputs": [
    {
     "data": {
      "text/plain": [
       "id                  object\n",
       "subid               object\n",
       "parentid            object\n",
       "author              object\n",
       "score                int32\n",
       "created     datetime64[ns]\n",
       "body                object\n",
       "vader              float32\n",
       "dtype: object"
      ]
     },
     "execution_count": 91,
     "metadata": {},
     "output_type": "execute_result"
    }
   ],
   "source": [
    "com_data = com_data.astype({'id': 'str',\n",
    "                            'subid': 'str',\n",
    "                            'parentid': 'str',\n",
    "                            'author': 'str',\n",
    "                            'score': 'int32', \n",
    "                            'created': 'datetime64[s]',\n",
    "                            'body': 'str',\n",
    "                            'vader': 'float32'})\n",
    "com_data.dtypes"
   ]
  },
  {
   "cell_type": "markdown",
   "metadata": {},
   "source": [
    "### 5.2) Save history"
   ]
  },
  {
   "cell_type": "code",
   "execution_count": 92,
   "metadata": {},
   "outputs": [],
   "source": [
    "sub_data.to_feather(f'www/history/sub_data_{datetime.datetime.now():%Y%m%d_%H%M}.ft')\n",
    "com_data.to_feather(f'www/history/com_data_{datetime.datetime.now():%Y%m%d_%H%M}.ft')"
   ]
  },
  {
   "cell_type": "markdown",
   "metadata": {},
   "source": [
    "### 5.3) Splice history"
   ]
  },
  {
   "cell_type": "code",
   "execution_count": 93,
   "metadata": {},
   "outputs": [],
   "source": [
    "sub_wc = pd.read_feather('www/sub_data.ft')\n",
    "com_wc = pd.read_feather('www/com_data.ft')"
   ]
  },
  {
   "cell_type": "code",
   "execution_count": 94,
   "metadata": {},
   "outputs": [],
   "source": [
    "sub_key = pd.merge(sub_data, sub_wc, how = 'outer')\n",
    "com_key = pd.merge(com_data, com_wc, how = 'outer')"
   ]
  },
  {
   "cell_type": "code",
   "execution_count": 105,
   "metadata": {},
   "outputs": [],
   "source": [
    "sub_key = pd.merge(sub_data['id'], sub_wc['id'], how = 'outer').drop_duplicates()\n",
    "sub_key = pd.merge(sub_key, sub_data, how = 'outer', on = 'id').dropna(how = 'any')\n",
    "sub_data = pd.merge(sub_key, pd.merge(sub_key[pd.isnull(sub_key['title'])]['id'], sub_wc, how = 'outer', on = 'id'), how = 'outer')\n",
    "com_key = pd.merge(com_data['id'], com_wc['id'], how = 'outer').drop_duplicates()\n",
    "com_key = pd.merge(com_key, com_data, how = 'outer', on = 'id').dropna(how = 'any')\n",
    "com_data = pd.merge(com_key, pd.merge(com_key[pd.isnull(com_key['subid'])]['id'], com_wc, how = 'outer', on = 'id'), how = 'outer')"
   ]
  },
  {
   "cell_type": "markdown",
   "metadata": {},
   "source": [
    "### 5.4) Save working copy"
   ]
  },
  {
   "cell_type": "code",
   "execution_count": 106,
   "metadata": {},
   "outputs": [],
   "source": [
    "sub_data.to_feather('www/sub_data.ft')\n",
    "com_data.to_feather('www/com_data.ft')"
   ]
  },
  {
   "attachments": {
    "image.png": {
     "image/png": "[encoded data removed]"
    }
   },
   "cell_type": "markdown",
   "metadata": {},
   "source": [
    "# See you in R! \n",
    "![image.png](attachment:image.png)"
   ]
  }
 ],
 "metadata": {
  "kernelspec": {
   "display_name": "Python 3",
   "language": "python",
   "name": "python3"
  },
  "language_info": {
   "codemirror_mode": {
    "name": "ipython",
    "version": 3
   },
   "file_extension": ".py",
   "mimetype": "text/x-python",
   "name": "python",
   "nbconvert_exporter": "python",
   "pygments_lexer": "ipython3",
   "version": "3.8.5"
  }
 },
 "nbformat": 4,
 "nbformat_minor": 4
}
