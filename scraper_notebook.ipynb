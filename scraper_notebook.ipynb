{
 "cells": [
  {
   "cell_type": "markdown",
   "metadata": {},
   "source": [
    "# WSB SCRAPER"
   ]
  },
  {
   "cell_type": "markdown",
   "metadata": {},
   "source": [
    "## 1) Load packages"
   ]
  },
  {
   "cell_type": "code",
   "execution_count": null,
   "metadata": {},
   "outputs": [],
   "source": [
    "import praw\n",
    "import pandas as pd\n",
    "from textblob import TextBlob\n",
    "import nltk\n",
    "# nltk.download('vader_lexicon')\n",
    "from nltk.sentiment.vader import SentimentIntensityAnalyzer"
   ]
  },
  {
   "cell_type": "markdown",
   "metadata": {},
   "source": [
    "## 2) Set up Reddit API"
   ]
  },
  {
   "cell_type": "code",
   "execution_count": null,
   "metadata": {},
   "outputs": [],
   "source": [
    "reddit = praw.Reddit(client_id='dwvhQN_PoUCoAw',\n",
    "                     client_secret='X8N_SZUsiI-CNVIYLToBFFQ-cYE',\n",
    "                     user_agent='news on hooks')"
   ]
  },
  {
   "cell_type": "markdown",
   "metadata": {},
   "source": [
    "## 3) Retrieve data"
   ]
  },
  {
   "cell_type": "markdown",
   "metadata": {},
   "source": [
    "### 3.1) Retrieve submissions"
   ]
  },
  {
   "cell_type": "code",
   "execution_count": null,
   "metadata": {},
   "outputs": [],
   "source": [
    "submissions = reddit.subreddit('wallstreetbets').new(limit = 100)"
   ]
  },
  {
   "cell_type": "markdown",
   "metadata": {},
   "source": [
    "### 3.2) Parse submissions"
   ]
  },
  {
   "cell_type": "code",
   "execution_count": null,
   "metadata": {},
   "outputs": [],
   "source": [
    "sub_data = pd.DataFrame(columns = ['id', 'title', 'author', 'score', 'flair', 'ncomms', 'created', 'body'])\n",
    "for sub in submissions:\n",
    "    sub_data = sub_data.append(\n",
    "    pd.Series(\n",
    "    [\n",
    "        sub.id, \n",
    "        sub.title, \n",
    "        sub.author,\n",
    "        sub.score,\n",
    "        sub.link_flair_text, \n",
    "        sub.num_comments,\n",
    "        sub.created_utc,\n",
    "        sub.selftext\n",
    "    ], \n",
    "    index = ['id', 'title', 'author', 'score', 'flair', 'ncomms', 'created', 'body']\n",
    "    ),\n",
    "        ignore_index = True\n",
    "    )\n",
    "sub_data"
   ]
  },
  {
   "cell_type": "markdown",
   "metadata": {},
   "source": [
    "### 3.3) Retrieve comment forrest"
   ]
  },
  {
   "cell_type": "code",
   "execution_count": null,
   "metadata": {
    "scrolled": false
   },
   "outputs": [],
   "source": [
    "com_data =  pd.DataFrame(columns = ['id', 'subid', 'parentid', 'author', 'score', 'created', 'body'])\n",
    "for s_id in sub_data.id:\n",
    "    sub = reddit.submission(id=s_id)\n",
    "    print(sub.title)\n",
    "    sub.comments.replace_more(limit=None)\n",
    "    comment_queue = sub.comments[:]  # Seed with top-level\n",
    "    while comment_queue:\n",
    "        comment = comment_queue.pop(0)\n",
    "        com_data = com_data.append(\n",
    "        pd.Series(\n",
    "        [\n",
    "            comment.id, \n",
    "            comment.link_id,\n",
    "            comment.parent_id,\n",
    "            comment.author,\n",
    "            comment.score,\n",
    "            comment.created_utc,\n",
    "            comment.body\n",
    "        ],\n",
    "            index = ['id', 'subid', 'parentid', 'author', 'score', 'created', 'body']\n",
    "        ),\n",
    "            ignore_index = True\n",
    "        )\n",
    "        comment_queue.extend(comment.replies)\n",
    "        \n",
    "com_data"
   ]
  },
  {
   "cell_type": "code",
   "execution_count": null,
   "metadata": {},
   "outputs": [],
   "source": []
  },
  {
   "cell_type": "code",
   "execution_count": null,
   "metadata": {},
   "outputs": [],
   "source": []
  },
  {
   "cell_type": "code",
   "execution_count": null,
   "metadata": {},
   "outputs": [],
   "source": []
  }
 ],
 "metadata": {
  "kernelspec": {
   "display_name": "Python 3",
   "language": "python",
   "name": "python3"
  },
  "language_info": {
   "codemirror_mode": {
    "name": "ipython",
    "version": 3
   },
   "file_extension": ".py",
   "mimetype": "text/x-python",
   "name": "python",
   "nbconvert_exporter": "python",
   "pygments_lexer": "ipython3",
   "version": "3.7.7"
  }
 },
 "nbformat": 4,
 "nbformat_minor": 4
}
