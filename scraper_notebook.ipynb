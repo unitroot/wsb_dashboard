{
 "cells": [
  {
   "cell_type": "markdown",
   "metadata": {},
   "source": [
    "# WSB SCRAPER"
   ]
  },
  {
   "cell_type": "markdown",
   "metadata": {},
   "source": [
    "## 1) Load packages"
   ]
  },
  {
   "cell_type": "code",
   "execution_count": 1,
   "metadata": {},
   "outputs": [],
   "source": [
    "import praw\n",
    "import pandas as pd\n",
    "from textblob import TextBlob\n",
    "import nltk\n",
    "# nltk.download('vader_lexicon')\n",
    "from nltk.sentiment.vader import SentimentIntensityAnalyzer"
   ]
  },
  {
   "cell_type": "markdown",
   "metadata": {},
   "source": [
    "## 2) Set up Reddit API"
   ]
  },
  {
   "cell_type": "code",
   "execution_count": 2,
   "metadata": {},
   "outputs": [],
   "source": [
    "reddit = praw.Reddit(client_id='dwvhQN_PoUCoAw',\n",
    "                     client_secret='X8N_SZUsiI-CNVIYLToBFFQ-cYE',\n",
    "                     user_agent='news on hooks')"
   ]
  },
  {
   "cell_type": "markdown",
   "metadata": {},
   "source": [
    "## 3) Retrieve data"
   ]
  },
  {
   "cell_type": "markdown",
   "metadata": {},
   "source": [
    "### 3.1) Retrieve submissions"
   ]
  },
  {
   "cell_type": "code",
   "execution_count": 10,
   "metadata": {},
   "outputs": [],
   "source": [
    "submissions = reddit.subreddit('wallstreetbets').hot(limit = 10)"
   ]
  },
  {
   "cell_type": "markdown",
   "metadata": {},
   "source": [
    "### 3.2) Parse submissions"
   ]
  },
  {
   "cell_type": "code",
   "execution_count": 11,
   "metadata": {},
   "outputs": [
    {
     "data": {
      "text/html": [
       "<div>\n",
       "<style scoped>\n",
       "    .dataframe tbody tr th:only-of-type {\n",
       "        vertical-align: middle;\n",
       "    }\n",
       "\n",
       "    .dataframe tbody tr th {\n",
       "        vertical-align: top;\n",
       "    }\n",
       "\n",
       "    .dataframe thead th {\n",
       "        text-align: right;\n",
       "    }\n",
       "</style>\n",
       "<table border=\"1\" class=\"dataframe\">\n",
       "  <thead>\n",
       "    <tr style=\"text-align: right;\">\n",
       "      <th></th>\n",
       "      <th>id</th>\n",
       "      <th>title</th>\n",
       "      <th>author</th>\n",
       "      <th>score</th>\n",
       "      <th>flair</th>\n",
       "      <th>ncomms</th>\n",
       "      <th>created</th>\n",
       "      <th>body</th>\n",
       "    </tr>\n",
       "  </thead>\n",
       "  <tbody>\n",
       "    <tr>\n",
       "      <th>0</th>\n",
       "      <td>kmmuco</td>\n",
       "      <td>What Are Your Moves Tomorrow, December 30, 2020</td>\n",
       "      <td>OPINION_IS_UNPOPULAR</td>\n",
       "      <td>78</td>\n",
       "      <td>Daily Discussion</td>\n",
       "      <td>3120</td>\n",
       "      <td>1.609276e+09</td>\n",
       "      <td>Your daily trading discussion thread. Please k...</td>\n",
       "    </tr>\n",
       "    <tr>\n",
       "      <th>1</th>\n",
       "      <td>kmicip</td>\n",
       "      <td>Ultimate Retard</td>\n",
       "      <td>armchairtycoon</td>\n",
       "      <td>5342</td>\n",
       "      <td>Loss</td>\n",
       "      <td>345</td>\n",
       "      <td>1.609262e+09</td>\n",
       "      <td></td>\n",
       "    </tr>\n",
       "    <tr>\n",
       "      <th>2</th>\n",
       "      <td>kmco9p</td>\n",
       "      <td>Have you fellas looked at the sky tonight?</td>\n",
       "      <td>shikseLord</td>\n",
       "      <td>6427</td>\n",
       "      <td>Meme</td>\n",
       "      <td>472</td>\n",
       "      <td>1.609241e+09</td>\n",
       "      <td></td>\n",
       "    </tr>\n",
       "    <tr>\n",
       "      <th>3</th>\n",
       "      <td>kmh65w</td>\n",
       "      <td>Hole the Line! GME to the 🌘🚀🚀🚀🚀🚀🚀🚀🚀🚀🚀🚀🚀🚀🚀🚀🚀🚀🚀</td>\n",
       "      <td>Bombayzayy</td>\n",
       "      <td>2082</td>\n",
       "      <td>Meme</td>\n",
       "      <td>246</td>\n",
       "      <td>1.609258e+09</td>\n",
       "      <td></td>\n",
       "    </tr>\n",
       "    <tr>\n",
       "      <th>4</th>\n",
       "      <td>kmh6p6</td>\n",
       "      <td>Tis but a scratch, lost $127K but still holdin...</td>\n",
       "      <td>SIR_JACK_A_LOT</td>\n",
       "      <td>1461</td>\n",
       "      <td>Loss</td>\n",
       "      <td>384</td>\n",
       "      <td>1.609258e+09</td>\n",
       "      <td></td>\n",
       "    </tr>\n",
       "    <tr>\n",
       "      <th>5</th>\n",
       "      <td>kmhxmq</td>\n",
       "      <td>I inversed Sir PumpAndDumpALot on CRSR and mad...</td>\n",
       "      <td>runupanddown</td>\n",
       "      <td>999</td>\n",
       "      <td>Gain</td>\n",
       "      <td>204</td>\n",
       "      <td>1.609261e+09</td>\n",
       "      <td></td>\n",
       "    </tr>\n",
       "    <tr>\n",
       "      <th>6</th>\n",
       "      <td>kmhvvy</td>\n",
       "      <td>When your memefolio hasn’t bought you a lambo yet</td>\n",
       "      <td>PencesElectrician</td>\n",
       "      <td>802</td>\n",
       "      <td>Meme</td>\n",
       "      <td>36</td>\n",
       "      <td>1.609260e+09</td>\n",
       "      <td></td>\n",
       "    </tr>\n",
       "    <tr>\n",
       "      <th>7</th>\n",
       "      <td>kmixcj</td>\n",
       "      <td>Mitch blocks your 2k stimmy, no tendies for you</td>\n",
       "      <td>DancewithRance</td>\n",
       "      <td>581</td>\n",
       "      <td>Loss</td>\n",
       "      <td>279</td>\n",
       "      <td>1.609264e+09</td>\n",
       "      <td></td>\n",
       "    </tr>\n",
       "    <tr>\n",
       "      <th>8</th>\n",
       "      <td>kmhj21</td>\n",
       "      <td>I finally got my hands on the unrevised editio...</td>\n",
       "      <td>N80085</td>\n",
       "      <td>593</td>\n",
       "      <td>Fundamentals</td>\n",
       "      <td>21</td>\n",
       "      <td>1.609259e+09</td>\n",
       "      <td></td>\n",
       "    </tr>\n",
       "    <tr>\n",
       "      <th>9</th>\n",
       "      <td>kmgzp7</td>\n",
       "      <td>GME Analysis of Shares Currently Being Shorted...</td>\n",
       "      <td>_Unoriginal_Name</td>\n",
       "      <td>607</td>\n",
       "      <td>Technicals</td>\n",
       "      <td>362</td>\n",
       "      <td>1.609258e+09</td>\n",
       "      <td>https://iborrowdesk.com/report/GME\\n\\nSo I was...</td>\n",
       "    </tr>\n",
       "  </tbody>\n",
       "</table>\n",
       "</div>"
      ],
      "text/plain": [
       "       id                                              title  \\\n",
       "0  kmmuco    What Are Your Moves Tomorrow, December 30, 2020   \n",
       "1  kmicip                                    Ultimate Retard   \n",
       "2  kmco9p         Have you fellas looked at the sky tonight?   \n",
       "3  kmh65w      Hole the Line! GME to the 🌘🚀🚀🚀🚀🚀🚀🚀🚀🚀🚀🚀🚀🚀🚀🚀🚀🚀🚀   \n",
       "4  kmh6p6  Tis but a scratch, lost $127K but still holdin...   \n",
       "5  kmhxmq  I inversed Sir PumpAndDumpALot on CRSR and mad...   \n",
       "6  kmhvvy  When your memefolio hasn’t bought you a lambo yet   \n",
       "7  kmixcj    Mitch blocks your 2k stimmy, no tendies for you   \n",
       "8  kmhj21  I finally got my hands on the unrevised editio...   \n",
       "9  kmgzp7  GME Analysis of Shares Currently Being Shorted...   \n",
       "\n",
       "                 author score             flair ncomms       created  \\\n",
       "0  OPINION_IS_UNPOPULAR    78  Daily Discussion   3120  1.609276e+09   \n",
       "1        armchairtycoon  5342              Loss    345  1.609262e+09   \n",
       "2            shikseLord  6427              Meme    472  1.609241e+09   \n",
       "3            Bombayzayy  2082              Meme    246  1.609258e+09   \n",
       "4        SIR_JACK_A_LOT  1461              Loss    384  1.609258e+09   \n",
       "5          runupanddown   999              Gain    204  1.609261e+09   \n",
       "6     PencesElectrician   802              Meme     36  1.609260e+09   \n",
       "7        DancewithRance   581              Loss    279  1.609264e+09   \n",
       "8                N80085   593      Fundamentals     21  1.609259e+09   \n",
       "9      _Unoriginal_Name   607        Technicals    362  1.609258e+09   \n",
       "\n",
       "                                                body  \n",
       "0  Your daily trading discussion thread. Please k...  \n",
       "1                                                     \n",
       "2                                                     \n",
       "3                                                     \n",
       "4                                                     \n",
       "5                                                     \n",
       "6                                                     \n",
       "7                                                     \n",
       "8                                                     \n",
       "9  https://iborrowdesk.com/report/GME\\n\\nSo I was...  "
      ]
     },
     "execution_count": 11,
     "metadata": {},
     "output_type": "execute_result"
    }
   ],
   "source": [
    "sub_data = pd.DataFrame(columns = ['id', 'title', 'author', 'score', 'flair', 'ncomms', 'created', 'body'])\n",
    "for sub in submissions:\n",
    "    sub_data = sub_data.append(\n",
    "    pd.Series(\n",
    "    [\n",
    "        sub.id, \n",
    "        sub.title, \n",
    "        sub.author,\n",
    "        sub.score,\n",
    "        sub.link_flair_text, \n",
    "        sub.num_comments,\n",
    "        sub.created_utc,\n",
    "        sub.selftext\n",
    "    ], \n",
    "    index = ['id', 'title', 'author', 'score', 'flair', 'ncomms', 'created', 'body']\n",
    "    ),\n",
    "        ignore_index = True\n",
    "    )\n",
    "sub_data"
   ]
  },
  {
   "cell_type": "markdown",
   "metadata": {},
   "source": [
    "### 3.3) Retrieve comment forrest"
   ]
  },
  {
   "cell_type": "code",
   "execution_count": 13,
   "metadata": {},
   "outputs": [
    {
     "name": "stdout",
     "output_type": "stream",
     "text": [
      "Shoutout to all the autists that can add text to a video but can't edit out the cut to another scene at the end.\n",
      "I tried telling people on this sub how much of a yolo play norwegian airways was/is but mods are gay and deleted my post for no reason after it got some attention\n",
      "Nice\n",
      "Please fly again\n",
      "Fucking QS too\n",
      "Well Brian\n",
      "Bb insider trading dude really killed that one.\n",
      "NIO gang where we at??? Currently +70% 🚀🚀🚀🚀\n",
      "Anyone who yolos on a stock that got crushed by Apple 13 years ago deserves this life.\n",
      "BB!!!\n",
      "$PLTR TO THE MOOON 🚀 🚀 🚀\n",
      "BB aint dead its a sleeping giant\n",
      "The best thing about WSB is never fails to make me laugh at my own losses. Keeps me grounded. I'm a peter.\n",
      "Maybe stop buying meme stocks?\n",
      "Shout-out to Christina Applegate!\n",
      "🤣🤣\n",
      "Well brian\n",
      "Your work was not in vain, to tendie town we go!\n",
      "Just YOLO'd a grand into this for shits. Don't even know if I put it into the right one. NWARF? Lol. I actually flew Norwegian a year ago (USA to CPH) and really quite liked it.\n",
      "If I'm looking at the right ticker, it's under a billion market cap aka stop advertising your penny stocks\n",
      "Nice\n",
      "pleas\\* you retard\n",
      "also down 7% since 12-22\n",
      "Sir this is wallstreetbets.\n",
      "Buzz me mulatto\n",
      "it is nwarf on the american market i trade from etoro in the eu and the ticker is nas.ol. I saw a guy complaining today how he bought the stock but like one unit and how he now has to pay a 50$ trading fee cause it is European stock no idea wtf that was about\n",
      "yea cause everything under a billion is penny stocks... fucking stupid logic. Lets pump PLTR all the way sideways\n",
      "Nice\n",
      "I love how there's always about 3 stocks being pumped (prob by the mods) and they never do well but I guarentee people are making money fucking with meme stocks.\n",
      "\n",
      "The hive mind can't even talk about other stocks and any post not for a meme stock is instantly removed.\n",
      "Sup, mello?\n",
      "Yeah I got a notification on Fidelity about Canadian something or other - think it was on their market? Distracted with work right now lol and 1k is a trivial buy-in for what this could be if regulation wins the day. Ordinarily not a full-on meme YOLO-er - very critical of GME - but Norwegian was probably my favorite trip over the Atlantic yet. Gut feeling.\n",
      "**Edit - Thanks! by the way.**\n",
      "Pltr average volume 65 million at 46 billion market cap as if this subs pumping anything. We're just riding the wave. And read the wsb rules maybe ur posts won't get deleted or get your text to speech inbred sister to whisper the rules into your ear if you can't read.\n",
      "Ikr? I made a post about something making me money but it immediately got removed “because the market cap is under 1 Billion” which it is, but only under by 100 Million, and people have posted about it plenty on here.\n",
      "Yea but don’t be surprised if it dips a bit in the coming days since it just had some good growth. But the company did some major restructuring and got bankruptcy protection so I expect them to recover at least somewhat of their  initial value. Most people invested i with that attitude and put in what they could afford to lose\n",
      "What was it\n",
      "I actually completely misread the data haha. Distracted while working. Googling NWARF stock shows highs into the upper 400s earlier this year, but I guess that's only on OTCMKTS. Traded stock that I picked up is far more tepid. Oh well. If they make it through these next months I believe brand goodwill is there (speaking on firsthand experience). Still prefer something like TELL for a dumbguy play of betting on return to pre-covid normal.\n",
      "MVIS but that’s when it was trading around 9 and I was in under 6. It buttfucked me today.\n",
      "\n",
      "Edit: everything except Tesla buttfucked me today. Can someone just put bitch biconnel in time out until we get our stimmies so the market can candlestick and I can nope out of some of these garbage short holds?\n",
      "Market will bounce soon, but I don’t want to see so many red tickers anymore. Just a few. I can’t see the full screen through the visor on my helmet anyway.\n"
     ]
    }
   ],
   "source": [
    "submission = reddit.submission(id=sub_data.id[6])\n",
    "submission.comments.replace_more(limit=None)\n",
    "comment_queue = submission.comments[:]  # Seed with top-level\n",
    "while comment_queue:\n",
    "    comment = comment_queue.pop(0)\n",
    "    print(comment.body)\n",
    "    comment_queue.extend(comment.replies)"
   ]
  },
  {
   "cell_type": "code",
   "execution_count": null,
   "metadata": {},
   "outputs": [],
   "source": [
    "com_data =  pd.DataFrame(columns = ['id', 'title', 'author', 'score', 'flair', 'ncomms', 'created', 'body'])\n",
    "for sub in submissions:\n",
    "    sub.comments.replace_more(limit=None)\n",
    "    for top_level_comment in submission.comments:\n",
    "        print(top_level_comment.body)"
   ]
  },
  {
   "cell_type": "code",
   "execution_count": null,
   "metadata": {},
   "outputs": [],
   "source": []
  },
  {
   "cell_type": "code",
   "execution_count": null,
   "metadata": {},
   "outputs": [],
   "source": []
  },
  {
   "cell_type": "code",
   "execution_count": null,
   "metadata": {},
   "outputs": [],
   "source": []
  }
 ],
 "metadata": {
  "kernelspec": {
   "display_name": "Python 3",
   "language": "python",
   "name": "python3"
  },
  "language_info": {
   "codemirror_mode": {
    "name": "ipython",
    "version": 3
   },
   "file_extension": ".py",
   "mimetype": "text/x-python",
   "name": "python",
   "nbconvert_exporter": "python",
   "pygments_lexer": "ipython3",
   "version": "3.7.7"
  }
 },
 "nbformat": 4,
 "nbformat_minor": 4
}
