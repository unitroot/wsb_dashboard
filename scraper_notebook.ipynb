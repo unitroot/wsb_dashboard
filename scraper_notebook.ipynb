{
 "cells": [
  {
   "cell_type": "markdown",
   "metadata": {},
   "source": [
    "# WSB SCRAPER"
   ]
  },
  {
   "cell_type": "markdown",
   "metadata": {},
   "source": [
    "## 1) Load packages"
   ]
  },
  {
   "cell_type": "code",
   "execution_count": null,
   "metadata": {},
   "outputs": [],
   "source": [
    "import praw\n",
    "import pandas as pd\n",
    "from textblob import TextBlob\n",
    "import nltk\n",
    "import pyarrow\n",
    "# nltk.download('vader_lexicon')\n",
    "from nltk.sentiment.vader import SentimentIntensityAnalyzer"
   ]
  },
  {
   "cell_type": "markdown",
   "metadata": {},
   "source": [
    "## 2) Set up Reddit API"
   ]
  },
  {
   "cell_type": "code",
   "execution_count": null,
   "metadata": {},
   "outputs": [],
   "source": [
    "reddit = praw.Reddit(client_id='dwvhQN_PoUCoAw',\n",
    "                     client_secret='X8N_SZUsiI-CNVIYLToBFFQ-cYE',\n",
    "                     user_agent='news on hooks')"
   ]
  },
  {
   "cell_type": "markdown",
   "metadata": {},
   "source": [
    "## 3) Retrieve data"
   ]
  },
  {
   "cell_type": "markdown",
   "metadata": {},
   "source": [
    "### 3.1) Retrieve submissions"
   ]
  },
  {
   "cell_type": "code",
   "execution_count": null,
   "metadata": {},
   "outputs": [],
   "source": [
    "submissions = reddit.subreddit('wallstreetbets').new(limit = 10)"
   ]
  },
  {
   "cell_type": "markdown",
   "metadata": {},
   "source": [
    "### 3.2) Parse submissions"
   ]
  },
  {
   "cell_type": "code",
   "execution_count": null,
   "metadata": {},
   "outputs": [],
   "source": [
    "sub_data = pd.DataFrame(columns = ['id', 'title', 'author', 'score', 'flair', 'ncomms', 'created', 'body', 'vader'])\n",
    "for sub in submissions:\n",
    "    sub_data = sub_data.append(\n",
    "    pd.Series(\n",
    "    [\n",
    "        sub.id, \n",
    "        sub.title, \n",
    "        sub.author,\n",
    "        sub.score,\n",
    "        sub.link_flair_text, \n",
    "        sub.num_comments,\n",
    "        sub.created_utc,\n",
    "        sub.selftext,\n",
    "        'N/A'\n",
    "    ], \n",
    "    index = ['id', 'title', 'author', 'score', 'flair', 'ncomms', 'created', 'body', 'vader']\n",
    "    ),\n",
    "        ignore_index = True\n",
    "    )\n",
    "sub_data"
   ]
  },
  {
   "cell_type": "markdown",
   "metadata": {},
   "source": [
    "### 3.3) Retrieve comment forrest"
   ]
  },
  {
   "cell_type": "code",
   "execution_count": null,
   "metadata": {
    "scrolled": false
   },
   "outputs": [],
   "source": [
    "com_data =  pd.DataFrame(columns = ['id', 'subid', 'parentid', 'author', 'score', 'created', 'body', 'vader'])\n",
    "for s_id in sub_data.id:\n",
    "    sub = reddit.submission(id=s_id)\n",
    "    print(sub.title)\n",
    "    sub.comments.replace_more(limit=None)\n",
    "    comment_queue = sub.comments[:]  # Seed with top-level\n",
    "    while comment_queue:\n",
    "        comment = comment_queue.pop(0)\n",
    "        com_data = com_data.append(\n",
    "        pd.Series(\n",
    "        [\n",
    "            comment.id, \n",
    "            comment.link_id,\n",
    "            comment.parent_id,\n",
    "            comment.author,\n",
    "            comment.score,\n",
    "            comment.created_utc,\n",
    "            comment.body,\n",
    "            'N/A'\n",
    "        ],\n",
    "            index = ['id', 'subid', 'parentid', 'author', 'score', 'created', 'body', 'vader']\n",
    "        ),\n",
    "            ignore_index = True\n",
    "        )\n",
    "        comment_queue.extend(comment.replies)\n",
    "        \n",
    "com_data"
   ]
  },
  {
   "cell_type": "markdown",
   "metadata": {},
   "source": [
    "## 4) VADER Sentiment Analyzer"
   ]
  },
  {
   "cell_type": "markdown",
   "metadata": {},
   "source": [
    "### 4.1) Assign SIA shortcut"
   ]
  },
  {
   "cell_type": "code",
   "execution_count": null,
   "metadata": {},
   "outputs": [],
   "source": [
    "sia = SentimentIntensityAnalyzer()"
   ]
  },
  {
   "cell_type": "markdown",
   "metadata": {},
   "source": [
    "### 4.2) Define custom valence dictionary"
   ]
  },
  {
   "cell_type": "code",
   "execution_count": null,
   "metadata": {},
   "outputs": [],
   "source": [
    "wsb_lingo = {\n",
    "    # words to neutralize\n",
    "    'retard': 0,\n",
    "    'yolo': 0,\n",
    "    'yolod': 0,\n",
    "    'yoloed': 0,\n",
    "    'yoloing': 0,\n",
    "    'fuck': 0,\n",
    "    'fucks': 0,\n",
    "    'fucked': 0,\n",
    "    'fucking': 0,\n",
    "    'shit': 0,\n",
    "    'fag': 0, \n",
    "    'autist': 0,\n",
    "    # positive valence\n",
    "    'bull': 1.5,\n",
    "    'call': 1.5,\n",
    "    'calls': 1.5,\n",
    "    'long': 1.5,\n",
    "    'buy': 1,\n",
    "    'buys': 1,\n",
    "    'buying': 1,\n",
    "    'hold': 0.5,\n",
    "    # negative valence\n",
    "    'bear': -1.5,\n",
    "    'sell': -1.5,\n",
    "    'selling': -1.5,\n",
    "    'sells': -1.5,\n",
    "    'puts': -1.5,\n",
    "    'short': -1.5,\n",
    "    'shorts': -1.5,\n",
    "    'shorting': -1.5,\n",
    "    'put': -1,\n",
    "    'wife': -1,\n",
    "    \"wife's\": -1,\n",
    "    'boyfriend': -1,\n",
    "    'gay': -0.5, # sad\n",
    "    'moon': -0.5, # debatable, but mostly used sarcastically\n",
    "    # emoji mapping, which get translated to text by VADER\n",
    "    'fire': 0,\n",
    "    'rainbow': -1.5,\n",
    "    'gem stone': 1,\n",
    "    'raising hand': 1,\n",
    "    'rocket': 1.5\n",
    "}\n",
    "\n",
    "sia.lexicon.update(wsb_lingo)"
   ]
  },
  {
   "cell_type": "markdown",
   "metadata": {},
   "source": [
    "### 4.3) Iterate over submissions and comments"
   ]
  },
  {
   "cell_type": "code",
   "execution_count": null,
   "metadata": {},
   "outputs": [],
   "source": [
    "for row in sub_data.index:\n",
    "    sub_data.loc[row, 'vader'] = sia.polarity_scores(sub_data.loc[row, 'title'])['compound']\n",
    "sub_data"
   ]
  },
  {
   "cell_type": "code",
   "execution_count": null,
   "metadata": {},
   "outputs": [],
   "source": [
    "for row in com_data.index:\n",
    "    com_data.loc[row, 'vader'] = sia.polarity_scores(com_data.loc[row, 'body'])['compound']\n",
    "com_data"
   ]
  },
  {
   "cell_type": "markdown",
   "metadata": {},
   "source": [
    "## 5) Store Data"
   ]
  },
  {
   "cell_type": "code",
   "execution_count": null,
   "metadata": {},
   "outputs": [],
   "source": [
    "sub_data = sub_data.astype({'id': 'str', # required str conversion due to hidden PRAW-specific dtypes incompatibility with feather\n",
    "                            'title': 'str',\n",
    "                            'author': 'str',\n",
    "                            'score': 'int32', \n",
    "                            'flair': 'str',\n",
    "                            'ncomms': 'int32', \n",
    "                            'created': 'float64',\n",
    "                            'body': 'str',\n",
    "                            'vader': 'float32'})\n",
    "sub_data.dtypes"
   ]
  },
  {
   "cell_type": "code",
   "execution_count": null,
   "metadata": {},
   "outputs": [],
   "source": [
    "sub_data.to_feather('www/sub_data.ft')"
   ]
  },
  {
   "cell_type": "code",
   "execution_count": null,
   "metadata": {},
   "outputs": [],
   "source": [
    "com_data = com_data.astype({'id': 'str',\n",
    "                            'subid': 'str',\n",
    "                            'parentid': 'str',\n",
    "                            'author': 'str',\n",
    "                            'score': 'int32', \n",
    "                            'created': 'float64',\n",
    "                            'body': 'str',\n",
    "                            'vader': 'float32'})\n",
    "com_data.dtypes"
   ]
  },
  {
   "cell_type": "code",
   "execution_count": null,
   "metadata": {},
   "outputs": [],
   "source": [
    "com_data.to_feather('www/com_data.ft')"
   ]
  }
 ],
 "metadata": {
  "kernelspec": {
   "display_name": "Python 3",
   "language": "python",
   "name": "python3"
  },
  "language_info": {
   "codemirror_mode": {
    "name": "ipython",
    "version": 3
   },
   "file_extension": ".py",
   "mimetype": "text/x-python",
   "name": "python",
   "nbconvert_exporter": "python",
   "pygments_lexer": "ipython3",
   "version": "3.8.5"
  }
 },
 "nbformat": 4,
 "nbformat_minor": 4
}
